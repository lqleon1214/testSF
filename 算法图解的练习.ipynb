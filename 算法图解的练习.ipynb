{
 "cells": [
  {
   "cell_type": "markdown",
   "metadata": {},
   "source": [
    "## 第一章、算法简介\n",
    "* ### 二分查找"
   ]
  },
  {
   "cell_type": "code",
   "execution_count": 3,
   "metadata": {},
   "outputs": [],
   "source": [
    "def binary_search(list, item):\n",
    "    # low和high用于跟踪要在其中查找的列表部分\n",
    "    low = 0\n",
    "    high = len(list) - 1\n",
    "    \n",
    "    while low <= high:\n",
    "        # 只要范围没有缩小到只包含一个元素\n",
    "        mid = int((low + high) / 2)    # 就检查中间的元素\n",
    "        guess = list[mid]\n",
    "        if guess == item:              # 找到了元素\n",
    "            return mid\n",
    "        if guess > item:               # 猜的数字大了\n",
    "            high = mid - 1\n",
    "        else:                          # 猜的数字小了\n",
    "            low = mid + 1\n",
    "            \n",
    "    return None                        # 没有指定的元素"
   ]
  },
  {
   "cell_type": "code",
   "execution_count": 4,
   "metadata": {},
   "outputs": [
    {
     "name": "stdout",
     "output_type": "stream",
     "text": [
      "1\n",
      "None\n"
     ]
    }
   ],
   "source": [
    "# 下面是测试的代码\n",
    "my_list = [1, 3, 5, 7, 9]\n",
    "print(binary_search(my_list, 3))    # => 1 别忘了索引从0开始，第二个位置的索引为1\n",
    "print(binary_search(my_list, -1))   # => None 在Python中，None表示空，它意味着没有找到指定的元素。"
   ]
  },
  {
   "cell_type": "code",
   "execution_count": 7,
   "metadata": {},
   "outputs": [
    {
     "name": "stdout",
     "output_type": "stream",
     "text": [
      "8.0\n"
     ]
    }
   ],
   "source": [
    "import math\n",
    "print(math.log(256,2))"
   ]
  },
  {
   "cell_type": "markdown",
   "metadata": {},
   "source": [
    "> `最多需要猜测的次数与列表长度相同，着被称为线性时间(linear timne)。`"
   ]
  },
  {
   "cell_type": "markdown",
   "metadata": {},
   "source": [
    "* ### 大O表示法"
   ]
  },
  {
   "cell_type": "markdown",
   "metadata": {},
   "source": [
    "> * 大O表示法值的并非以秒为单位的速度。大O表示法让你能够比较从操作数，它之处了算法运行时间的增速。\n",
    "> * 大O表示法指出了最槽糕情况下的运行时间。（除最糟糕情况下的运行时间外，还应考虑平均情况的运行时间，这很重要。）"
   ]
  },
  {
   "cell_type": "markdown",
   "metadata": {},
   "source": [
    "### 一些常见的大O运行时间\n",
    "下面按从快到慢的顺序列出了你经常会遇到的5种大O运行时间。\n",
    "* O(log n)，也叫对数时间，这样的算法包括二分查找。\n",
    "* O(n)，也叫现象时间，这样的算法包括简单查找。\n",
    "* O(n * log n)，这样的算法包括第4章将介绍的快速排序——一种速度较快的排序算法。\n",
    "* O(n2),这样的算法包括第2章将介绍的选择排序——一种速度较慢的排序算法。\n",
    "* O(n!)， 这样的算法包括接下来将介绍的旅行商问题的解决方案——一种非常慢的算法。\n",
    "\n",
    "当前我们获得的主要启示如下：\n",
    "* 算法的速度 指的 并非时间，而是操作数的增速。\n",
    "* 谈论算法的速度时，我们说的是随着输入的增加，其运行时间将以什么样的速度增加。\n",
    "* 算法的运行时间用大O表示法表示。\n",
    "* O(log n)比O(n)快，当需要搜索的元素越来越多时，前者比后者快得越多。"
   ]
  },
  {
   "cell_type": "markdown",
   "metadata": {},
   "source": [
    "## 第二章、选择排序"
   ]
  },
  {
   "cell_type": "markdown",
   "metadata": {},
   "source": [
    "选择排序是一种灵活的算法，但其速度不是很快。需要的总时间为O(n2)"
   ]
  },
  {
   "cell_type": "code",
   "execution_count": 9,
   "metadata": {},
   "outputs": [],
   "source": [
    "def findSmallest(arr):\n",
    "    smallest = arr[0]      # 存储最小的值\n",
    "    smallest_index = 0     # 存储最小元素的索引\n",
    "    for i in range(1, len(arr)):\n",
    "        if arr[i] < smallest:\n",
    "            smallest = arr[i]\n",
    "            smallest_index = i\n",
    "    return smallest_index"
   ]
  },
  {
   "cell_type": "code",
   "execution_count": 10,
   "metadata": {},
   "outputs": [],
   "source": [
    "def selectionSort(arr):      # 对数组进行排序\n",
    "    newArr = []\n",
    "    for i in range(len(arr)):\n",
    "        smallest = findSmallest(arr)      # 找出数组中最小的元素，并将其加入到新数组中\n",
    "        newArr.append(arr.pop(smallest))\n",
    "    return newArr"
   ]
  },
  {
   "cell_type": "code",
   "execution_count": 11,
   "metadata": {},
   "outputs": [
    {
     "name": "stdout",
     "output_type": "stream",
     "text": [
      "[2, 3, 5, 6, 10]\n"
     ]
    }
   ],
   "source": [
    "print(selectionSort([5, 3, 6, 2, 10]))"
   ]
  },
  {
   "cell_type": "markdown",
   "metadata": {},
   "source": [
    "小结：\n",
    "* 数组的元素都是在一起。\n",
    "* 连表的元素是分开的，其中每个元素都存储了下一个元素的地址。\n",
    "* 数组的读取速度很快。\n",
    "* 链表的插入和删除速度很快。\n",
    "* 在同一个数组中，所有元素的类型都必须相同（都为int、double等）。"
   ]
  },
  {
   "cell_type": "markdown",
   "metadata": {},
   "source": [
    "## 第三章、递归"
   ]
  },
  {
   "cell_type": "markdown",
   "metadata": {},
   "source": [
    "while循环和递归很像。但是递归只是让解决方案更清晰，并没有性能上的优势。实际上，在有些情况下，使用循环的性能更好。\n",
    "> \"如果使用循环，程序的性能可能更高；如果使用递归，程序可能更容易理解。如何选择要看什么对你来说更重要。\""
   ]
  },
  {
   "cell_type": "markdown",
   "metadata": {},
   "source": [
    "**编写递归函数时，必须告诉它何时停止递归。**正因为如此，每个`递归函数都有两个部分：基线条件(base case)和递归条件(recursive case)。`递归条件指的是函数调用自己，而基线条件则指的是函数不再调用自己，从而避免形成无限循环。"
   ]
  },
  {
   "cell_type": "markdown",
   "metadata": {},
   "source": [
    "**调用另一个函数时，当前函数 暂停并处于未完成状态。**"
   ]
  },
  {
   "cell_type": "code",
   "execution_count": 12,
   "metadata": {},
   "outputs": [],
   "source": [
    "# 递归调用栈\n",
    "def fact(x):\n",
    "    if x == 1:\n",
    "        return 1\n",
    "    else:\n",
    "        return x * fact(x - 1)"
   ]
  },
  {
   "cell_type": "markdown",
   "metadata": {},
   "source": [
    "**注意，每个fact调用都有自己的x变量。在一个函数调用中不能访问另一个的x变量。**"
   ]
  },
  {
   "cell_type": "markdown",
   "metadata": {},
   "source": [
    "使用栈虽然很方便，但是也要付出代价：存储详尽的信息可能占用大量的内存。每个函数调用都要占用一定的内存，如果栈很高，就意味着计算机存储了大量函数调用的信息。在这种情况下，你有两种选择。\n",
    "* 重新编写代码，转而使用循环。\n",
    "* 使用`尾递归`。这是一个高级递归主题，不在本书的讨论范围内。另外，并非所有的语言都支持尾递归。"
   ]
  },
  {
   "cell_type": "markdown",
   "metadata": {},
   "source": [
    "## 第四章、快速排序"
   ]
  },
  {
   "cell_type": "markdown",
   "metadata": {},
   "source": [
    "**这里重申一下D&C的工作原理：**\n",
    "1. 找出简单的基线条件；\n",
    "2. 确定如何缩小问题的规模，使其符合基线条件。\n",
    "\n",
    "D&C并非可用于解决问题的算法，而是一种解决问题的思路。"
   ]
  },
  {
   "cell_type": "markdown",
   "metadata": {},
   "source": [
    "下面是练习："
   ]
  },
  {
   "cell_type": "code",
   "execution_count": 13,
   "metadata": {},
   "outputs": [],
   "source": [
    "# 4.1 编写前述sum函数的代码\n",
    "def sum(list):\n",
    "    if list == []:\n",
    "        return 0\n",
    "    return list[0] + sum(list[1:])"
   ]
  },
  {
   "cell_type": "code",
   "execution_count": 15,
   "metadata": {},
   "outputs": [],
   "source": [
    "# 4.2 编写一个递归函数来计算列表包含的元素数\n",
    "def count(list):\n",
    "    if list == []:\n",
    "        return 0\n",
    "    return 1 + count(list[1:])"
   ]
  },
  {
   "cell_type": "code",
   "execution_count": 17,
   "metadata": {},
   "outputs": [],
   "source": [
    "# 4.3 找出列表中最大的数字\n",
    "def max(list):\n",
    "    # 下面是基线条件\n",
    "    if len(list) == 2:\n",
    "        return list[0] if list[0] > list[1] else list[1]\n",
    "    # 下面这部分是递归条件\n",
    "    sub_max = max(list[1:])\n",
    "    return list[0] if list[0] > sub_max else sub_max"
   ]
  },
  {
   "cell_type": "code",
   "execution_count": 18,
   "metadata": {},
   "outputs": [],
   "source": [
    "# 下面是快速排序的代码\n",
    "def quicksort(array):\n",
    "    if len(array) < 2:\n",
    "        return array          # 基线条件：为空或只包含一个元素的数组是“有序”的\n",
    "    else:\n",
    "        pivot = array[0]      # 递归条件\n",
    "        less = [i for i in array[1:] if i <= pivot]   # 由所有小于等于基准值的元素组成的子数组\n",
    "        greater = [i for i in array[1:] if i > pivot] # 由所有大于基准值的元素组成的子数组\n",
    "        return quicksort(less) + [pivot] + quicksort(greater)"
   ]
  },
  {
   "cell_type": "code",
   "execution_count": 19,
   "metadata": {},
   "outputs": [
    {
     "name": "stdout",
     "output_type": "stream",
     "text": [
      "[2, 3, 5, 10]\n"
     ]
    }
   ],
   "source": [
    "print(quicksort([10,5,2,3]))"
   ]
  },
  {
   "cell_type": "code",
   "execution_count": null,
   "metadata": {},
   "outputs": [],
   "source": []
  }
 ],
 "metadata": {
  "kernelspec": {
   "display_name": "Python 3",
   "language": "python",
   "name": "python3"
  },
  "language_info": {
   "codemirror_mode": {
    "name": "ipython",
    "version": 3
   },
   "file_extension": ".py",
   "mimetype": "text/x-python",
   "name": "python",
   "nbconvert_exporter": "python",
   "pygments_lexer": "ipython3",
   "version": "3.6.5"
  }
 },
 "nbformat": 4,
 "nbformat_minor": 2
}
